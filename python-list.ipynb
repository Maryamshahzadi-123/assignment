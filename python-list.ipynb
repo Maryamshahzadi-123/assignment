{
 "cells": [
  {
   "cell_type": "code",
   "execution_count": 41,
   "metadata": {},
   "outputs": [
    {
     "name": "stdout",
     "output_type": "stream",
     "text": [
      "maryam\n",
      "amna \n",
      "Esha\n"
     ]
    }
   ],
   "source": [
    "3-1\n",
    "\n",
    "names:list = ['maryam', 'amna ', 'Esha']\n",
    "\n",
    "print(names[0])\n",
    "print(names[1])\n",
    "print(names[2])"
   ]
  },
  {
   "cell_type": "code",
   "execution_count": 42,
   "metadata": {},
   "outputs": [
    {
     "name": "stdout",
     "output_type": "stream",
     "text": [
      "maryam welcome to the world\n",
      "amna  welcome to the world\n",
      "Esha welcome to the world\n"
     ]
    }
   ],
   "source": [
    "names :list = ['maryam', 'amna ', 'Esha']\n",
    "msg :str ='welcome to the world'\n",
    "print( names[0] ,msg)\n",
    "print( names[1], msg)\n",
    "print( names[2] ,msg)"
   ]
  },
  {
   "cell_type": "code",
   "execution_count": 48,
   "metadata": {},
   "outputs": [
    {
     "name": "stdout",
     "output_type": "stream",
     "text": [
      "motorcycle {'i like motorcycle'}\n",
      "car {'i want car'}\n"
     ]
    }
   ],
   "source": [
    "transport : list=['motorcycle','car']\n",
    "statement1 =\"i like motorcycle\"\n",
    "print(transport[0], {statement1} )\n",
    "statement2 =\"i want car\"\n",
    "print(transport[1], {statement2})\n"
   ]
  },
  {
   "cell_type": "code",
   "execution_count": 52,
   "metadata": {},
   "outputs": [
    {
     "name": "stdout",
     "output_type": "stream",
     "text": [
      " hamza,come to dinner\n",
      " tayyab,come to dinner\n",
      " rana,come to dinner\n"
     ]
    }
   ],
   "source": [
    "guests = ['hamza' ,'tayyab' ,'rana']\n",
    "msg= \"come to dinner\"\n",
    "print(f\" {guests[0]},{msg}\")\n",
    "print(f\" {guests[1]},{msg}\")\n",
    "print(f\" {guests[2]},{msg}\")"
   ]
  },
  {
   "cell_type": "code",
   "execution_count": 59,
   "metadata": {},
   "outputs": [
    {
     "name": "stdout",
     "output_type": "stream",
     "text": [
      " hamza,come to dinner\n",
      " tayyab,come to dinner\n",
      " rana,come to dinner\n",
      " rana,cannot come \n",
      "['hamza', 'maryam', 'rana'], has invite in dinner \n"
     ]
    }
   ],
   "source": [
    "guests = ['hamza' ,'tayyab' ,'rana']\n",
    "msg= \"come to dinner\"\n",
    "print(f\" {guests[0]},{msg}\")\n",
    "print(f\" {guests[1]},{msg}\")\n",
    "print(f\" {guests[2]},{msg}\")\n",
    "\n",
    "print(f\" {guests[2]},cannot come \")\n",
    "\n",
    "guests[1]=\"maryam\"\n",
    "\n",
    "print(f\"{guests}, has invite in dinner \") "
   ]
  },
  {
   "cell_type": "code",
   "execution_count": 17,
   "metadata": {},
   "outputs": [
    {
     "name": "stdout",
     "output_type": "stream",
     "text": [
      "all friends are invited\n",
      "hello amna, you are invited to dinner.\n",
      "hello laiba , you are invited to dinner.\n",
      "hello maryam, you are invited to dinner.\n",
      "hello esha, you are invited to dinner.\n",
      "hello maham, you are invited to dinner.\n",
      "hello mahnoor, you are invited to dinner.\n"
     ]
    }
   ],
   "source": [
    "guests = [\"maryam\", \"esha\", \"maham\"]\n",
    "\n",
    "print(\"all friends are invited\")\n",
    "\n",
    "guests.insert(0, \"amna\") \n",
    "guests.insert(1, \"laiba \")  \n",
    "guests.append(\"mahnoor\") \n",
    "\n",
    "for guest in guests:\n",
    "    print(f\"hello {guest}, you are invited to dinner.\")"
   ]
  },
  {
   "cell_type": "code",
   "execution_count": 23,
   "metadata": {},
   "outputs": [
    {
     "name": "stdout",
     "output_type": "stream",
     "text": [
      " I can only invite two people for dinner.\n",
      "Sorry, tasbiha, but I can't invite you to dinner.\n",
      "Sorry, ayesha, but I can't invite you to dinner.\n",
      "Sorry, maria, but I can't invite you to dinner.\n",
      "Sorry, aliza, but I can't invite you to dinner.\n",
      "laiba, you're still invited!\n",
      "amin, you're still invited!\n",
      "Final guest list: ['amin']\n"
     ]
    }
   ],
   "source": [
    "guests = [\"laiba\", \"amin\", \"aliza\", \"maria\", \"ayesha\", \"tasbiha\"]\n",
    "\n",
    "print(\" I can only invite two people for dinner.\")\n",
    "\n",
    "while len(guests) > 2:\n",
    "    removed_guest = guests.pop()\n",
    "    print(f\"Sorry, {removed_guest}, but I can't invite you to dinner.\")\n",
    "\n",
    "for guest in guests:\n",
    "    print(f\"{guest}, you're still invited!\")\n",
    "\n",
    "del guests[0]\n",
    "\n",
    "print(f\"Final guest list: {guests}\")"
   ]
  },
  {
   "cell_type": "code",
   "execution_count": 19,
   "metadata": {},
   "outputs": [
    {
     "name": "stdout",
     "output_type": "stream",
     "text": [
      "Original order: ['Lahore', 'Multan', 'Islamabad', 'Okra', 'UMT']\n",
      "Alphabetical order: ['Islamabad', 'Lahore', 'Multan', 'Okra', 'UMT']\n",
      "Original order again: ['Lahore', 'Multan', 'Islamabad', 'Okra', 'UMT']\n",
      "Reverse-alphabetical order: ['UMT', 'Okra', 'Multan', 'Lahore', 'Islamabad']\n",
      "Original order again: ['Lahore', 'Multan', 'Islamabad', 'Okra', 'UMT']\n",
      "Reversed order: ['UMT', 'Okra', 'Islamabad', 'Multan', 'Lahore']\n",
      "Original order restored: ['Lahore', 'Multan', 'Islamabad', 'Okra', 'UMT']\n",
      "Alphabetical order (sorted): ['Islamabad', 'Lahore', 'Multan', 'Okra', 'UMT']\n",
      "Reverse-alphabetical order (sorted): ['UMT', 'Okra', 'Multan', 'Lahore', 'Islamabad']\n"
     ]
    }
   ],
   "source": [
    "places = [\"Lahore\", \"Multan\", \"Islamabad\", \"Okra\", \"UMT\"]\n",
    "\n",
    "print(\"Original order:\", places)\n",
    "\n",
    "print(\"Alphabetical order:\", sorted(places))\n",
    "\n",
    "print(\"Original order again:\", places)\n",
    "\n",
    "print(\"Reverse-alphabetical order:\", sorted(places, reverse=True))\n",
    "\n",
    "print(\"Original order again:\", places)\n",
    "\n",
    "places.reverse()\n",
    "print(\"Reversed order:\", places)\n",
    "\n",
    "places.reverse()\n",
    "print(\"Original order restored:\", places)\n",
    "\n",
    "places.sort()\n",
    "print(\"Alphabetical order (sorted):\", places)\n",
    "\n",
    "places.sort(reverse=True)\n",
    "print(\"Reverse-alphabetical order (sorted):\", places)"
   ]
  },
  {
   "cell_type": "code",
   "execution_count": 20,
   "metadata": {},
   "outputs": [
    {
     "name": "stdout",
     "output_type": "stream",
     "text": [
      "Original list: ['Pizza', 'Burger', 'Pasta', 'Sushi', 'Ice cream']\n",
      "Sorted list: ['Burger', 'Ice cream', 'Pasta', 'Pizza', 'Sushi']\n",
      "After appending: ['Pizza', 'Burger', 'Pasta', 'Sushi', 'Ice cream', 'Salad']\n",
      "After inserting at index 2: ['Pizza', 'Burger', 'Fries', 'Pasta', 'Sushi', 'Ice cream', 'Salad']\n",
      "After removing 'Burger': ['Pizza', 'Fries', 'Pasta', 'Sushi', 'Ice cream', 'Salad']\n",
      "Popped item: Salad\n",
      "After popping an item: ['Pizza', 'Fries', 'Pasta', 'Sushi', 'Ice cream']\n",
      "Sorted list (sort()): ['Fries', 'Ice cream', 'Pasta', 'Pizza', 'Sushi']\n",
      "Reversed list: ['Sushi', 'Pizza', 'Pasta', 'Ice cream', 'Fries']\n"
     ]
    }
   ],
   "source": [
    "foods = [\"Pizza\", \"Burger\", \"Pasta\", \"Sushi\", \"Ice cream\"]\n",
    "\n",
    "print(\"Original list:\", foods)\n",
    "print(\"Sorted list:\", sorted(foods))  \n",
    "foods.append(\"Salad\")  \n",
    "print(\"After appending:\", foods)\n",
    "foods.insert(2, \"Fries\") \n",
    "print(\"After inserting at index 2:\", foods)\n",
    "foods.remove(\"Burger\")  \n",
    "print(\"After removing 'Burger':\", foods)\n",
    "popped_item = foods.pop()  \n",
    "print(f\"Popped item: {popped_item}\")\n",
    "print(\"After popping an item:\", foods)\n",
    "foods.sort()\n",
    "print(\"Sorted list (sort()):\", foods)\n",
    "foods.reverse() \n",
    "print(\"Reversed list:\", foods)"
   ]
  },
  {
   "cell_type": "code",
   "execution_count": 27,
   "metadata": {},
   "outputs": [
    {
     "name": "stdout",
     "output_type": "stream",
     "text": [
      "Green\n"
     ]
    }
   ],
   "source": [
    "colors = [\"Red\", \"Green\", \"Blue\"]\n",
    "print(colors[1])\n"
   ]
  },
  {
   "cell_type": "code",
   "execution_count": null,
   "metadata": {},
   "outputs": [],
   "source": []
  }
 ],
 "metadata": {
  "kernelspec": {
   "display_name": "Python 3",
   "language": "python",
   "name": "python3"
  },
  "language_info": {
   "codemirror_mode": {
    "name": "ipython",
    "version": 3
   },
   "file_extension": ".py",
   "mimetype": "text/x-python",
   "name": "python",
   "nbconvert_exporter": "python",
   "pygments_lexer": "ipython3",
   "version": "3.12.4"
  }
 },
 "nbformat": 4,
 "nbformat_minor": 2
}
