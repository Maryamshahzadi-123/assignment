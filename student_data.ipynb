{
  "nbformat": 4,
  "nbformat_minor": 0,
  "metadata": {
    "colab": {
      "provenance": [],
      "authorship_tag": "ABX9TyPrxbZmvWYVBQvipePczS58",
      "include_colab_link": true
    },
    "kernelspec": {
      "name": "python3",
      "display_name": "Python 3"
    },
    "language_info": {
      "name": "python"
    }
  },
  "cells": [
    {
      "cell_type": "markdown",
      "metadata": {
        "id": "view-in-github",
        "colab_type": "text"
      },
      "source": [
        "<a href=\"https://colab.research.google.com/github/Maryamshahzadi-123/assignment/blob/main/student_data.ipynb\" target=\"_parent\"><img src=\"https://colab.research.google.com/assets/colab-badge.svg\" alt=\"Open In Colab\"/></a>"
      ]
    },
    {
      "cell_type": "code",
      "execution_count": 2,
      "metadata": {
        "colab": {
          "base_uri": "https://localhost:8080/"
        },
        "id": "qeh5qUrivQ9U",
        "outputId": "93a492df-7669-4b15-ade4-b88c5d9b1ab5"
      },
      "outputs": [
        {
          "output_type": "stream",
          "name": "stdout",
          "text": [
            "Enter the student's name (or type 'stop' to finish): mayam\n",
            "Enter the student's name (or type 'stop' to finish): maham\n",
            "Enter the student's name (or type 'stop' to finish): mayam\n",
            "Duplicate name: mayam is already in the database.\n",
            "Enter the student's name (or type 'stop' to finish): abc\n",
            "Enter the student's name (or type 'stop' to finish): stop\n",
            "\n",
            "Complete Student List (ID, Name):\n",
            "(1, 'mayam')\n",
            "(2, 'maham')\n",
            "(3, 'abc')\n",
            "\n",
            "Detailed Student Information:\n",
            "ID: 1, Name: mayam\n",
            "ID: 2, Name: maham\n",
            "ID: 3, Name: abc\n",
            "\n",
            "Total number of students: 3\n",
            "Total length of all student names combined: 13 characters\n",
            "Longest name: mayam (ID: 1)\n",
            "Shortest name: abc (ID: 3)\n"
          ]
        }
      ],
      "source": [
        "def manage_student_database():\n",
        "    # Step 1: Initialize an empty list to store student data (ID, Name)\n",
        "    students = []\n",
        "    student_id = 1  # Sequential student ID starting from 1\n",
        "\n",
        "    # Step 2: Start a loop to add students\n",
        "    while True:\n",
        "        # Ask for the student's name\n",
        "        name = input(\"Enter the student's name (or type 'stop' to finish): \")\n",
        "\n",
        "        # Step 3: Stop the input process when 'stop' is entered\n",
        "        if name.lower() == 'stop':\n",
        "            break\n",
        "\n",
        "        # Step 4: Check for duplicate names before adding a new student\n",
        "        if any(student[1] == name for student in students):\n",
        "            print(f\"Duplicate name: {name} is already in the database.\")\n",
        "        else:\n",
        "            # Add the student's ID and name as a tuple (ID, Name) to the list\n",
        "            students.append((student_id, name))\n",
        "            student_id += 1  # Increment the ID for the next student\n",
        "\n",
        "    # Step 5: Display the list of all student tuples\n",
        "    print(\"\\nComplete Student List (ID, Name):\")\n",
        "    for student in students:\n",
        "        print(student)\n",
        "\n",
        "    # Step 6: Display each student's ID and name individually\n",
        "    print(\"\\nDetailed Student Information:\")\n",
        "    for student in students:\n",
        "        print(f\"ID: {student[0]}, Name: {student[1]}\")\n",
        "\n",
        "    # Step 7: Show the total number of students\n",
        "    total_students = len(students)\n",
        "    print(f\"\\nTotal number of students: {total_students}\")\n",
        "\n",
        "    # Step 8: Calculate and display the total length of all student names combined\n",
        "    total_length_of_names = sum(len(student[1]) for student in students)\n",
        "    print(f\"Total length of all student names combined: {total_length_of_names} characters\")\n",
        "\n",
        "    # Step 9: Find the student with the longest and shortest name\n",
        "    if students:\n",
        "        longest_name = max(students, key=lambda student: len(student[1]))\n",
        "        shortest_name = min(students, key=lambda student: len(student[1]))\n",
        "        print(f\"Longest name: {longest_name[1]} (ID: {longest_name[0]})\")\n",
        "        print(f\"Shortest name: {shortest_name[1]} (ID: {shortest_name[0]})\")\n",
        "    else:\n",
        "        print(\"No students were added.\")\n",
        "\n",
        "# Step 10: Call the function to run the program\n",
        "manage_student_database()\n"
      ]
    }
  ]
}